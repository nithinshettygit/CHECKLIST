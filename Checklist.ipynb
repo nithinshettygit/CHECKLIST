{
  "nbformat": 4,
  "nbformat_minor": 0,
  "metadata": {
    "colab": {
      "provenance": [],
      "authorship_tag": "ABX9TyO7sgMnFYJMwcGv0H/rR5kx",
      "include_colab_link": true
    },
    "kernelspec": {
      "name": "python3",
      "display_name": "Python 3"
    },
    "language_info": {
      "name": "python"
    }
  },
  "cells": [
    {
      "cell_type": "markdown",
      "metadata": {
        "id": "view-in-github",
        "colab_type": "text"
      },
      "source": [
        "<a href=\"https://colab.research.google.com/github/nithinshettygit/CHECKLIST/blob/main/Checklist.ipynb\" target=\"_parent\"><img src=\"https://colab.research.google.com/assets/colab-badge.svg\" alt=\"Open In Colab\"/></a>"
      ]
    },
    {
      "cell_type": "code",
      "execution_count": null,
      "metadata": {
        "id": "xSAl0EX7fC1Y",
        "outputId": "29f28517-c3d9-46b2-f1ac-32187f7148ae",
        "colab": {
          "base_uri": "https://localhost:8080/"
        }
      },
      "outputs": [
        {
          "output_type": "stream",
          "name": "stdout",
          "text": [
            "o\n"
          ]
        }
      ],
      "source": [
        "print(\"o\")"
      ]
    },
    {
      "cell_type": "code",
      "source": [],
      "metadata": {
        "id": "CnviD-dkgkTt"
      },
      "execution_count": null,
      "outputs": []
    },
    {
      "cell_type": "markdown",
      "source": [
        "git post"
      ],
      "metadata": {
        "id": "fsXs3vr2hHmy"
      }
    },
    {
      "cell_type": "code",
      "source": [
        "print(67)"
      ],
      "metadata": {
        "id": "Vn2qrxuxhJYF",
        "outputId": "c477d700-159a-4626-b554-5ecf4c500314",
        "colab": {
          "base_uri": "https://localhost:8080/"
        }
      },
      "execution_count": 3,
      "outputs": [
        {
          "output_type": "stream",
          "name": "stdout",
          "text": [
            "67\n"
          ]
        }
      ]
    },
    {
      "cell_type": "code",
      "source": [],
      "metadata": {
        "id": "9Rf2uUQUhMtL"
      },
      "execution_count": null,
      "outputs": []
    }
  ]
}